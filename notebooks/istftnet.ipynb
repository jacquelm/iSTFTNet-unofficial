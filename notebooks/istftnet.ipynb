{
  "cells": [
    {
      "cell_type": "markdown",
      "metadata": {
        "id": "Wu-g1kkClVes"
      },
      "source": [
        "# iSTFTNet\n",
        "[![Generic badge](https://img.shields.io/badge/GitHub-s3prlvc-9cf.svg)][github]\n",
        "[![Open In Colab](https://colab.research.google.com/assets/colab-badge.svg)][notebook]\n",
        "\n",
        "Author: [tarepan]\n",
        "\n",
        "[github]:https://github.com/tarepan/iSTFTNet-unofficial\n",
        "[notebook]:https://colab.research.google.com/github/tarepan/iSTFTNet-unofficial/blob/main/istftnet.ipynb\n",
        "[tarepan]:https://github.com/tarepan"
      ]
    },
    {
      "cell_type": "markdown",
      "metadata": {
        "id": "n2xWyFDEW4R2"
      },
      "source": [
        "## Colab Check"
      ]
    },
    {
      "cell_type": "code",
      "execution_count": 1,
      "metadata": {
        "id": "_3Zf6v7ZWfQC"
      },
      "outputs": [
        {
          "name": "stdout",
          "output_type": "stream",
          "text": [
            "0.299453days (25872.73sec)\n",
            "Model: \t\t NVIDIA GeForce GTX 1650\n",
            "Python 3.9.13\n",
            "Version: 2.0.1\n",
            "/bin/bash: ligne 1: /usr/local/cuda/bin/nvcc: Aucun fichier ou dossier de ce type\n"
          ]
        }
      ],
      "source": [
        "!cat /proc/uptime | awk '{print $1 /60 /60 /24 \"days (\" $1 \"sec)\"}'\n",
        "!head -n 1 /proc/driver/nvidia/gpus/**/information\n",
        "!python --version\n",
        "!pip show torch | sed '2!d'\n",
        "!/usr/local/cuda/bin/nvcc --version | sed '4!d'"
      ]
    },
    {
      "cell_type": "markdown",
      "metadata": {
        "id": "MtuqvCccW8gM"
      },
      "source": [
        "## Setup"
      ]
    },
    {
      "cell_type": "code",
      "execution_count": 2,
      "metadata": {
        "id": "qVLnNF07lYV-"
      },
      "outputs": [
        {
          "ename": "ModuleNotFoundError",
          "evalue": "No module named 'google.colab'",
          "output_type": "error",
          "traceback": [
            "\u001b[0;31m---------------------------------------------------------------------------\u001b[0m",
            "\u001b[0;31mModuleNotFoundError\u001b[0m                       Traceback (most recent call last)",
            "\u001b[1;32m/home/maxime/Documents/Code/Neural_Network/Pytorch/iSTFTNet-unofficial/istftnet.ipynb Cell 5\u001b[0m in \u001b[0;36m<cell line: 2>\u001b[0;34m()\u001b[0m\n\u001b[1;32m      <a href='vscode-notebook-cell:/home/maxime/Documents/Code/Neural_Network/Pytorch/iSTFTNet-unofficial/istftnet.ipynb#W4sZmlsZQ%3D%3D?line=0'>1</a>\u001b[0m \u001b[39m# GoogleDrive\u001b[39;00m\n\u001b[0;32m----> <a href='vscode-notebook-cell:/home/maxime/Documents/Code/Neural_Network/Pytorch/iSTFTNet-unofficial/istftnet.ipynb#W4sZmlsZQ%3D%3D?line=1'>2</a>\u001b[0m \u001b[39mfrom\u001b[39;00m \u001b[39mgoogle\u001b[39;00m\u001b[39m.\u001b[39;00m\u001b[39mcolab\u001b[39;00m \u001b[39mimport\u001b[39;00m drive\n\u001b[1;32m      <a href='vscode-notebook-cell:/home/maxime/Documents/Code/Neural_Network/Pytorch/iSTFTNet-unofficial/istftnet.ipynb#W4sZmlsZQ%3D%3D?line=2'>3</a>\u001b[0m drive\u001b[39m.\u001b[39mmount(\u001b[39m'\u001b[39m\u001b[39m/content/gdrive\u001b[39m\u001b[39m'\u001b[39m)\n\u001b[1;32m      <a href='vscode-notebook-cell:/home/maxime/Documents/Code/Neural_Network/Pytorch/iSTFTNet-unofficial/istftnet.ipynb#W4sZmlsZQ%3D%3D?line=4'>5</a>\u001b[0m \u001b[39m# Repository\u001b[39;00m\n",
            "\u001b[0;31mModuleNotFoundError\u001b[0m: No module named 'google.colab'"
          ]
        }
      ],
      "source": [
        "# GoogleDrive\n",
        "from google.colab import drive\n",
        "drive.mount('/content/gdrive')\n",
        "\n",
        "# Repository\n",
        "!git clone https://github.com/tarepan/iSTFTNet-pytorch.git\n",
        "%cd \"./iSTFTNet-pytorch\"\n",
        "\n",
        "# Dependencies\n",
        "!pip install git+https://github.com/tarepan/speechcorpusy.git"
      ]
    },
    {
      "cell_type": "markdown",
      "metadata": {
        "id": "xztji2XwYnMI"
      },
      "source": [
        "### Data"
      ]
    },
    {
      "cell_type": "code",
      "execution_count": null,
      "metadata": {
        "id": "pylpY8CkXOBy"
      },
      "outputs": [],
      "source": [
        "from speechcorpusy import load_preset\n",
        "\n",
        "corpus = load_preset(\"LJ\", root=\"/content/gdrive/MyDrive/ML_data\", download=False)\n",
        "corpus.get_contents()"
      ]
    },
    {
      "cell_type": "markdown",
      "metadata": {
        "id": "DBEz7Qg9ls6G"
      },
      "source": [
        "## Training"
      ]
    },
    {
      "cell_type": "code",
      "execution_count": null,
      "metadata": {
        "id": "oiD4-Qcclr1b"
      },
      "outputs": [],
      "source": [
        "# Launch TensorBoard\n",
        "%load_ext tensorboard\n",
        "%tensorboard --logdir /content/gdrive/MyDrive/ML_results/iSTFTNet\n",
        "\n",
        "# Train\n",
        "!python train.py --config config_v1.json \\\n",
        "    --input_wavs_dir \"tmp/corpuses/LJSpeech/ver1_1/contents/LJSpeech-1.1/wavs\" \\\n",
        "    --checkpoint_path \"/content/gdrive/MyDrive/ML_results/iSTFTNet/default\" \\\n",
        "    --checkpoint_interval 500 \\\n",
        "    --validation_interval 5000\n"
      ]
    }
  ],
  "metadata": {
    "accelerator": "GPU",
    "colab": {
      "private_outputs": true,
      "provenance": []
    },
    "gpuClass": "standard",
    "kernelspec": {
      "display_name": "Python 3",
      "name": "python3"
    },
    "language_info": {
      "codemirror_mode": {
        "name": "ipython",
        "version": 3
      },
      "file_extension": ".py",
      "mimetype": "text/x-python",
      "name": "python",
      "nbconvert_exporter": "python",
      "pygments_lexer": "ipython3",
      "version": "3.9.13"
    }
  },
  "nbformat": 4,
  "nbformat_minor": 0
}
